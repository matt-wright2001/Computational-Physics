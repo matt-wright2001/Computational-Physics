{
 "cells": [
  {
   "cell_type": "code",
   "execution_count": null,
   "metadata": {},
   "outputs": [],
   "source": [
    "import numpy as np\n",
    "import matplotlib.pyplot as plt\n",
    "import matplotlib.patches as patches\n",
    "\n",
    "# Load the data\n",
    "data = np.loadtxt(\"./data.txt\")\n",
    "\n",
    "# Create the design matrix X\n",
    "X = np.column_stack([\n",
    "    data[:, 0]**2,          # x^2\n",
    "    data[:, 0]*data[:, 1],  # xy\n",
    "    data[:, 1]**2,          # y^2\n",
    "    data[:, 0],             # x\n",
    "    data[:, 1]              # y\n",
    "])\n",
    "\n",
    "bVec = -np.ones(len(data))\n",
    "pVec = np.linalg.solve(X.T @ X, -X.T @ bVec)  \n",
    "\n",
    "# Unpack pVec into parameters\n",
    "A, B, C, D, E = pVec\n",
    "print(f'Parameters: A={A}, B={B}, C={C}, D={D}, E={E}')\n",
    "\n",
    "# Eigenvalue matrix\n",
    "M = np.array([[A, B/2], [B/2, C]])\n",
    "eigenvalues, eigenvectors = np.linalg.eig(M)\n",
    "\n",
    "# Semi-axes lengths\n",
    "a = np.sqrt(1 / np.abs(eigenvalues[0]))\n",
    "b = np.sqrt(1 / np.abs(eigenvalues[1]))\n",
    "\n",
    "# Ellipse orientation\n",
    "angle = np.degrees(np.arctan2(eigenvectors[1, 0], eigenvectors[0, 0]))\n",
    "\n",
    "# Ellipse center\n",
    "centerX = -D / (2 * A)\n",
    "centerY = -E / (2 * C)\n",
    "\n",
    "# Plotting\n",
    "ellipse = patches.Ellipse([centerX, centerY], 2*a, 2*b, angle=angle, fill=False, color='red', label='Fitted Ellipse')\n",
    "plt.gca().add_patch(ellipse)\n",
    "plt.scatter(data[:, 0], data[:, 1], label='Data Points')\n",
    "plt.legend()\n",
    "plt.axis('equal')\n",
    "plt.show()"
   ]
  }
 ],
 "metadata": {
  "kernelspec": {
   "display_name": "Python 3",
   "language": "python",
   "name": "python3"
  },
  "language_info": {
   "codemirror_mode": {
    "name": "ipython",
    "version": 3
   },
   "file_extension": ".py",
   "mimetype": "text/x-python",
   "name": "python",
   "nbconvert_exporter": "python",
   "pygments_lexer": "ipython3",
   "version": "3.11.5"
  }
 },
 "nbformat": 4,
 "nbformat_minor": 2
}
