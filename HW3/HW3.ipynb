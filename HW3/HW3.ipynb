{
 "cells": [
  {
   "cell_type": "markdown",
   "metadata": {},
   "source": [
    "##### Preamble and Function Definitions\n"
   ]
  },
  {
   "cell_type": "code",
   "execution_count": null,
   "metadata": {},
   "outputs": [],
   "source": []
  },
  {
   "cell_type": "markdown",
   "metadata": {},
   "source": [
    "# 1) Knife-Edge Diffraction\n",
    "Knife-edge diffraction occurs when an incoming plane wave is partially blocked by a straight edge. $\\frac{I}{I_0}$, the ratio between intensities before and after the straight edge, at the point $P(x,z)$ is given by $\\frac{I}{I_0}=\\frac{1}{8}\\left([2C(u)+1]^2 + [2S(u)+1]^2\\right)$, where $u=x\\sqrt{\\frac{2}{\\lambda z}}$, $C(u)=\\int_0^u \\cos\\left(\\frac{\\pi t^2}{2}\\right)dt$, and $S(u)=\\int_0^u\\sin\\left(\\frac{\\pi t^2}{2}\\right)dt$.\n",
    "\n",
    "##### Calculate $\\frac{I}{I_0}$ with Gauss-Legendre quadrature"
   ]
  },
  {
   "cell_type": "code",
   "execution_count": null,
   "metadata": {},
   "outputs": [],
   "source": []
  },
  {
   "cell_type": "markdown",
   "metadata": {},
   "source": [
    "##### With $\\lambda=1$, plot $\\frac{I}{I_0}(x)$ for $x\\in(-2,4)$. Compare at $z=\\{1,5\\}$. What N value is necessary to obtain accurate Gaussian quadrature results?"
   ]
  },
  {
   "cell_type": "code",
   "execution_count": null,
   "metadata": {},
   "outputs": [],
   "source": []
  },
  {
   "cell_type": "markdown",
   "metadata": {},
   "source": [
    "# 2) Plane Pendulum\n",
    "The period of a length $L$ plane pendulum is given by the eliptical integral of the first kind, $T=2\\sqrt{\\frac{L}{g}}\\int_{-1}^{1}\\frac{1}{\\sqrt{1-x^2}\\sqrt{1- k^2 x^2}}dx$ where $g$ is the gravitational acceleration and $k$ depends on the maximum penudum angle, $\\theta_0$, such that $k=\\sin\\left(\\frac{\\theta_0}{2}\\right)$.\n",
    "\n",
    "##### Using Gauss-Chebyshev, write a program to calculate T"
   ]
  },
  {
   "cell_type": "markdown",
   "metadata": {},
   "source": [
    "##### What value of N is large enough to achieve a T error $<10^{-6}$.  Does this value depend on $\\phi_0$?"
   ]
  },
  {
   "cell_type": "markdown",
   "metadata": {},
   "source": [
    "Plot $T(\\phi_0)$"
   ]
  },
  {
   "cell_type": "markdown",
   "metadata": {},
   "source": [
    "##### Plot $\\frac{T}{T_s}$ showing how much the solution differs from the small oscillation result."
   ]
  },
  {
   "cell_type": "markdown",
   "metadata": {},
   "source": [
    "# 3) Differentiation\n",
    "Estimate $\\frac{d}{dx} e^{x}|_{x_0}$ for $x_0=\\{0.1,10,100\\}$ using the 2-point forward and 3-point central difference formulas."
   ]
  },
  {
   "cell_type": "markdown",
   "metadata": {},
   "source": []
  }
 ],
 "metadata": {
  "kernelspec": {
   "display_name": "Python 3",
   "language": "python",
   "name": "python3"
  },
  "language_info": {
   "codemirror_mode": {
    "name": "ipython",
    "version": 3
   },
   "file_extension": ".py",
   "mimetype": "text/x-python",
   "name": "python",
   "nbconvert_exporter": "python",
   "pygments_lexer": "ipython3",
   "version": "3.11.3"
  },
  "orig_nbformat": 4
 },
 "nbformat": 4,
 "nbformat_minor": 2
}
