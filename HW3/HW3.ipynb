{
 "cells": [
  {
   "cell_type": "markdown",
   "metadata": {},
   "source": [
    "##### Preamble and Function Definitions\n"
   ]
  },
  {
   "cell_type": "code",
   "execution_count": 1,
   "metadata": {},
   "outputs": [],
   "source": [
    "from numpy import ones,copy,cos, sin, tan, pi, linspace, exp\n",
    "from math import sqrt\n",
    "import matplotlib.pyplot as plt\n",
    "\n",
    "def gaussChevy(theta, n):\n",
    "    kVal = k(theta)\n",
    "    sum = 0.0\n",
    "    for i in range(1,n+1):\n",
    "        x = cos(pi*(i - 0.5)/n)\n",
    "        f = 1 / sqrt(1- kVal**2 * x**2)\n",
    "        sum += f*pi/n\n",
    "    return sum\n",
    "\n",
    "def gaussxw(N):\n",
    "    # Initial approximation to roots of the Legendre polynomial\n",
    "    a = linspace(3,4*N-1,N)/(4*N+2)\n",
    "    x = cos(pi*a+1/(8*N*N*tan(a)))\n",
    "\n",
    "    # Find roots using Newton's method\n",
    "    epsilon = 1e-15\n",
    "    delta = 1.0\n",
    "\n",
    "    while delta>epsilon:\n",
    "        p0 = ones(N,float)\n",
    "        p1 = copy(x)\n",
    "        for k in range(1,N):\n",
    "            p0,p1 = p1,((2*k+1)*x*p1-k*p0)/(k+1)\n",
    "\n",
    "        dp = (N+1)*(p0-x*p1)/(1-x*x)\n",
    "        dx = p1/dp\n",
    "        x -= dx\n",
    "        delta = max(abs(dx))\n",
    "\n",
    "        # Calculate the weights\n",
    "    w = 2*(N+1)*(N+1)/(N*N*(1-x*x)*dp*dp)\n",
    "    return x,w\n",
    "\n",
    "def gaussxwab(N,a,b):\n",
    "    x,w = gaussxw(N)\n",
    "    return 0.5*(b-a)*x+0.5*(b+a),0.5*(b-a)*w\n",
    "\n",
    "def gaussLeg(Nmax, a, b, funct):\n",
    "    for n in range(3, Nmax + 1):\n",
    "        x,w = gaussxw(n)\n",
    "        xp = 0.5*(b-a)*x + 0.5*(b+a)\n",
    "        wp = 0.5*(b-a)*w\n",
    "\n",
    "        # Perform integration\n",
    "        evaluation=0.0\n",
    "        for i in range(n):\n",
    "            evaluation+=wp[i]*funct(xp[i])\n",
    "\n",
    "    return evaluation"
   ]
  },
  {
   "cell_type": "markdown",
   "metadata": {},
   "source": [
    "# 1) Knife-Edge Diffraction\n",
    "Knife-edge diffraction occurs when an incoming plane wave is partially blocked by a straight edge. $\\frac{I}{I_0}$, the ratio between intensities before and after the straight edge, at the point $P(x,z)$ is given by $\\frac{I}{I_0}=\\frac{1}{8}\\left([2C(u)+1]^2 + [2S(u)+1]^2\\right)$, where $u=x\\sqrt{\\frac{2}{\\lambda z}}$, $C(u)=\\int_0^u \\cos\\left(\\frac{\\pi t^2}{2}\\right)dt$, and $S(u)=\\int_0^u\\sin\\left(\\frac{\\pi t^2}{2}\\right)dt$.\n",
    "\n",
    "##### Calculate $\\frac{I}{I_0}$ with Gauss-Legendre quadrature"
   ]
  },
  {
   "cell_type": "code",
   "execution_count": 2,
   "metadata": {},
   "outputs": [],
   "source": [
    "def C(u):\n",
    "    return gaussLeg(50, 0, u, lambda x: cos(pi * x**2 / 2))\n",
    "\n",
    "def S(u):\n",
    "    return gaussLeg(50, 0, u, lambda x: sin(pi * x**2 / 2))\n",
    "    \n",
    "def uFunct(x,z,lam):\n",
    "    return x * sqrt(2/(lam * z))\n",
    "\n",
    "def intensityRatio(x,z,lam):\n",
    "    u = uFunct(x,z,lam)\n",
    "    intensityRatio = (1/8) * ( (2*C(u) + 1)**2 + (2*S(u) + 1)**2 )\n",
    "    return intensityRatio"
   ]
  },
  {
   "cell_type": "markdown",
   "metadata": {},
   "source": [
    "##### With $\\lambda=1$, plot $\\frac{I}{I_0}(x)$ for $x\\in(-2,4)$. Compare at $z=\\{1,5\\}$. What N value is necessary to obtain accurate Gaussian quadrature results?"
   ]
  },
  {
   "cell_type": "code",
   "execution_count": 3,
   "metadata": {},
   "outputs": [
    {
     "data": {
      "image/png": "[encoded data removed]",
      "text/plain": [
       "<Figure size 640x480 with 1 Axes>"
      ]
     },
     "metadata": {},
     "output_type": "display_data"
    }
   ],
   "source": [
    "xVal = linspace(-2, 4, 20)\n",
    "zVal = [1, 5]\n",
    "lam = 1\n",
    "\n",
    "for x in xVal:\n",
    "    for i in range(len(zVal)):\n",
    "        z = zVal[i]\n",
    "        ratio = intensityRatio(x,z,lam)\n",
    "        \n",
    "        if i % 2 == 0:\n",
    "            plt.scatter(x, ratio, color=\"blue\")\n",
    "        else:\n",
    "            plt.scatter(x, ratio, color=\"red\")"
   ]
  },
  {
   "cell_type": "markdown",
   "metadata": {},
   "source": [
    "# 2) Plane Pendulum\n",
    "The period of a length $L$ plane pendulum is given by the eliptical integral of the first kind, $T=2\\sqrt{\\frac{L}{g}}\\int_{-1}^{1}\\frac{1}{\\sqrt{1-x^2}\\sqrt{1- k^2 x^2}}dx$ where $g$ is the gravitational acceleration and $k$ depends on the maximum penudum angle, $\\theta_0$, such that $k=\\sin\\left(\\frac{\\theta_0}{2}\\right)$.\n",
    "\n",
    "##### Using Gauss-Chebyshev, write a program to calculate T."
   ]
  },
  {
   "cell_type": "code",
   "execution_count": 4,
   "metadata": {},
   "outputs": [],
   "source": [
    "def k(theta):\n",
    "    return sin(theta / 2)\n",
    "\n",
    "def pendPeriod(N,L,g, theta):\n",
    "    T = 2 * sqrt(L/g) * gaussChevy(theta, N)\n",
    "    return T"
   ]
  },
  {
   "cell_type": "markdown",
   "metadata": {},
   "source": [
    "##### What value of N is large enough to achieve a T error $<10^{-6}$.  Does this value depend on $\\phi_0$?\n",
    "\n",
    "###### Strategy: Calculate high N (high precision) reference solution and test range of values until error tolarance is reached. Only 4 iterations are necessary for the integration to converge to this precision."
   ]
  },
  {
   "cell_type": "code",
   "execution_count": 5,
   "metadata": {},
   "outputs": [
    {
     "name": "stdout",
     "output_type": "stream",
     "text": [
      "4\n"
     ]
    }
   ],
   "source": [
    "theta = pi / 6 # Arbitrary value\n",
    "highPrecisionEst = pendPeriod((10**6), 1, 1, theta)\n",
    "errorTolerance = 10 ** (-6)\n",
    "L = 1\n",
    "g = 1\n",
    "\n",
    "for i in range(0,50,1):\n",
    "    estimate = pendPeriod(i, L, g, theta)\n",
    "    error = abs(highPrecisionEst - estimate)\n",
    "    if error < errorTolerance:\n",
    "        print(i)\n",
    "        break"
   ]
  },
  {
   "cell_type": "markdown",
   "metadata": {},
   "source": [
    "##### Plot $T(\\theta_0)$\n",
    "##### Plot $\\frac{T}{T_s}$ showing how much the solution differs from the small oscillation result.\n",
    "###### Assuming small angles, $T$ reduces to $T_S=2\\pi\\sqrt{\\frac{L}{g}}$, a constant value."
   ]
  },
  {
   "cell_type": "code",
   "execution_count": 6,
   "metadata": {},
   "outputs": [
    {
     "data": {
      "image/png": "[encoded data removed]",
      "text/plain": [
       "<Figure size 640x480 with 1 Axes>"
      ]
     },
     "metadata": {},
     "output_type": "display_data"
    }
   ],
   "source": [
    "thetaList = linspace(0, 6.28, 628) # Angle measurements around a circle\n",
    "smallAngleApprox = pendPeriod(5, 1, 1, 0.001)\n",
    "\n",
    "for i in range(len(thetaList)):\n",
    "    period = pendPeriod(5, L, g, thetaList[i])\n",
    "    plt.scatter(thetaList[i],period, color=\"blue\")\n",
    "\n",
    "    plt.scatter(thetaList[i], period/smallAngleApprox, color=\"red\")"
   ]
  },
  {
   "cell_type": "markdown",
   "metadata": {},
   "source": [
    "# 3) Differentiation\n",
    "Estimate $\\frac{d}{dx} e^{x}|_{x_0}$ for $x_0=\\{0.1,10,100\\}$ using the 2-point forward and 3-point central difference formulas."
   ]
  },
  {
   "cell_type": "code",
   "execution_count": 7,
   "metadata": {},
   "outputs": [
    {
     "name": "stdout",
     "output_type": "stream",
     "text": [
      "Exact derivative evaluation for x=0.1 is 1.1051709180756477\n",
      "2-pt forward difference for x=0.1 is 1.1051764439384826\n",
      "3-pt central difference for x=0.1 is 1.1051709180920355\n",
      "\n",
      "Exact derivative evaluation for x=10 is 22026.465794806718\n",
      "2-pt forward difference for x=10 is 22026.57592642936\n",
      "3-pt central difference for x=10 is 22026.46579426073\n",
      "\n",
      "Exact derivative evaluation for x=100 is 2.6881171418161356e+43\n",
      "2-pt forward difference for x=100 is 2.6881305832735226e+43\n",
      "3-pt central difference for x=100 is 2.688117142710928e+43\n",
      "\n"
     ]
    }
   ],
   "source": [
    "def f(x):\n",
    "    return exp(x)\n",
    "    \n",
    "def twoPtForward(x0, deltaX):\n",
    "    return (f(x0+deltaX) - f(x0)) / deltaX\n",
    "\n",
    "def threePtCentral(x0, deltaX):\n",
    "    return (f(x0+deltaX) - f(x0-deltaX)) / (2*deltaX)\n",
    "    \n",
    "x0 = [0.1, 10, 100]\n",
    "for x in x0:\n",
    "    exact = exp(x)\n",
    "    print(f\"Exact derivative evaluation for x={x} is {exact}\")\n",
    "\n",
    "    twoPtEval = twoPtForward(x, 1e-5)\n",
    "    print(f\"2-pt forward difference for x={x} is {twoPtEval}\")\n",
    "    \n",
    "    threePtEval = threePtCentral(x, 1e-5)\n",
    "    print(f\"3-pt central difference for x={x} is {threePtEval}\\n\")"
   ]
  },
  {
   "cell_type": "markdown",
   "metadata": {},
   "source": [
    "# Plot the absolute value of the relative error in the derivative as a function of h on a log-log plot\n",
    "###### Strategy: Start with $h=1$ and iterativly decrease by half until round-off noticable "
   ]
  },
  {
   "cell_type": "code",
   "execution_count": 17,
   "metadata": {},
   "outputs": [
    {
     "data": {
      "image/png": "[encoded data removed]",
      "text/plain": [
       "<Figure size 640x480 with 1 Axes>"
      ]
     },
     "metadata": {},
     "output_type": "display_data"
    }
   ],
   "source": [
    "hVal = [1]\n",
    "x=10\n",
    "exact = exp(x)\n",
    "for i in range(50):\n",
    "    h = hVal[-1]/2\n",
    "    hVal.append(h)\n",
    "\n",
    "with open('errorTwoPtForward.dat', 'w') as fileTwoPt:\n",
    "    with open('errorThreePtCentral.dat', 'w') as fileThreePt:\n",
    "        for h in hVal:\n",
    "            approx = twoPtForward(x, h)\n",
    "            errorTwoPtForward = abs(exact - approx)\n",
    "            plt.xscale('log')\n",
    "            plt.yscale('log')\n",
    "\n",
    "            if h < 1e-8:\n",
    "                plt.scatter(h, errorTwoPtForward, color=\"red\")\n",
    "                fileTwoPt.write(f'{h} {errorTwoPtForward}\\n')\n",
    "            else: \n",
    "                plt.scatter(h, errorTwoPtForward, color=\"pink\")\n",
    "                fileTwoPt.write(f'{h} {errorTwoPtForward}\\n')\n",
    "\n",
    "            approx = threePtCentral(x, h)\n",
    "            errorThreePtCentral = abs(exact - approx)\n",
    "            \n",
    "            if h > 1e-5:\n",
    "                plt.scatter(h, errorThreePtCentral, color=\"blue\")\n",
    "                fileThreePt.write(f'{h} {errorThreePtCentral}\\n') \n",
    "            else:\n",
    "                plt.scatter(h, errorThreePtCentral, color=\"black\")\n",
    "                fileThreePt.write(f'{h} {errorThreePtCentral}\\n') "
   ]
  },
  {
   "cell_type": "markdown",
   "metadata": {},
   "source": [
    "In the above plot, red represents the round-off dominant region of the 2-pt forward difference formula, with the approximation error dominant region plotted in pink. The black reprsents the round-off dominant region of the 3-pt central difference formula with the approximation error dominant region in blue. From graphical inspection, we may determine that the 2-ptforward-difference formula optimal $h$ occurs in the order of $10^{-8}$. The 3-pt central difference occurs in the order of $10^{-5}$.\n",
    "\n",
    "\n",
    "# Graduate Work\n",
    "Regression polynomials are as follows:\n",
    "\n",
    "2-pt forward-difference\n",
    "\n",
    "Round off: \n",
    "Approximation error:\n",
    "\n",
    "3-pt central difference\n",
    "\n",
    "Round off:\n",
    "Approximation error:\n",
    "\n",
    "![Error Analysis](./errorAnalysis.png)"
   ]
  },
  {
   "cell_type": "markdown",
   "metadata": {},
   "source": []
  }
 ],
 "metadata": {
  "kernelspec": {
   "display_name": "Python 3",
   "language": "python",
   "name": "python3"
  },
  "language_info": {
   "codemirror_mode": {
    "name": "ipython",
    "version": 3
   },
   "file_extension": ".py",
   "mimetype": "text/x-python",
   "name": "python",
   "nbconvert_exporter": "python",
   "pygments_lexer": "ipython3",
   "version": "3.11.3"
  },
  "orig_nbformat": 4
 },
 "nbformat": 4,
 "nbformat_minor": 2
}
