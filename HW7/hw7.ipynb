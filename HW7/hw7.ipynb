{
 "cells": [
  {
   "cell_type": "markdown",
   "metadata": {},
   "source": [
    "## Volume of a Unit Hypersphere\n",
    "\n",
    "#### A unit hypersphere in $d$ dimensions within space spanned by $\\vec{r}$ such that $\\sum_i r_i^2\\leq 1$. For general $d$, volume is $V=\\frac{\\pi^{d/2}}{\\Gamma\\left(\\frac{d+2}{2}\\right)}$. Below is a Monte Carlo method to determine volumes of hyperspheres dependent on $d$ by means of dart throwing."
   ]
  },
  {
   "cell_type": "code",
   "execution_count": 14,
   "metadata": {},
   "outputs": [
    {
     "name": "stdout",
     "output_type": "stream",
     "text": [
      "Hypersphere Volume for n=100: 0.0\n",
      "Hypersphere Volume for n=1000: 0.0\n",
      "Hypersphere Volume for n=10000: 2.2528\n",
      "Hypersphere Volume for n=100000: 2.49856\n",
      "Hypersphere Volume for n=1000000: 2.594816\n"
     ]
    }
   ],
   "source": [
    "from scipy.special import gamma\n",
    "import numpy as np\n",
    "\n",
    "def hypSphereVol(d, n):\n",
    "    # Counter for the number of points inside the hypersphere\n",
    "    insideCount= 0  \n",
    "    \n",
    "    for i in range(n):\n",
    "        # Generate a random point in the d-dimensional cube\n",
    "        dart = np.random.uniform(-1, 1, d)\n",
    "\n",
    "        # Check if the point is inside the hypersphere\n",
    "        if np.linalg.norm(dart) <= 1:\n",
    "            insideCount += 1\n",
    "    \n",
    "    # Calculate the estimated volume of the hypersphere\n",
    "    volumeHypersphere = (2**d) * (insideCount / n)\n",
    "    return volumeHypersphere\n",
    "\n",
    "def exact(d):\n",
    "    dHalf = d / 2\n",
    "    return np.pi ** dHalf / gamma(dHalf + 1)\n",
    "\n",
    "nList = [100, 1000, 10000, 100000, 1000000]\n",
    "d = 10\n",
    "for n in range(len(nList)):\n",
    "    print(f\"Hypersphere Volume for n={nList[n]}: {hypSphereVol(d, nList[n])}\")\n",
    "\n",
    "#print(hypSphereVol(d,n))\n",
    "#print(exact(d))"
   ]
  },
  {
   "cell_type": "markdown",
   "metadata": {},
   "source": [
    "## Analysis of Monte Carlo Data\n",
    "#### Using an example Monte Carlo simulation from Newmann of an ideal gas, data is produced and analyzed to determine the system's average energy and corresponding standard error."
   ]
  },
  {
   "cell_type": "markdown",
   "metadata": {},
   "source": []
  }
 ],
 "metadata": {
  "kernelspec": {
   "display_name": "Python 3",
   "language": "python",
   "name": "python3"
  },
  "language_info": {
   "codemirror_mode": {
    "name": "ipython",
    "version": 3
   },
   "file_extension": ".py",
   "mimetype": "text/x-python",
   "name": "python",
   "nbconvert_exporter": "python",
   "pygments_lexer": "ipython3",
   "version": "3.11.5"
  }
 },
 "nbformat": 4,
 "nbformat_minor": 2
}
