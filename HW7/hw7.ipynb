{
 "cells": [
  {
   "cell_type": "markdown",
   "metadata": {},
   "source": [
    "## Volume of a Unit Hypersphere\n",
    "\n",
    "#### A unit hypersphere in $d$ dimensions within space spanned by $\\vec{r}$ such that $\\sum_i r_i^2\\leq 1$. For general $d$, volume is $V=\\frac{\\pi^{d/2}}{\\Gamma\\left(\\frac{d+2}{2}\\right)}$. Below is a Monte Carlo method to determine volumes of hyperspheres dependent on $d$ by means of dart throwing."
   ]
  },
  {
   "cell_type": "markdown",
   "metadata": {},
   "source": [
    "## Analysis of Monte Carlo Data\n",
    "#### Using an example Monte Carlo simulation from Newmann of an ideal gas, data is produced and analyzed to determine the system's average energy and corresponding standard error."
   ]
  }
 ],
 "metadata": {
  "language_info": {
   "name": "python"
  }
 },
 "nbformat": 4,
 "nbformat_minor": 2
}
