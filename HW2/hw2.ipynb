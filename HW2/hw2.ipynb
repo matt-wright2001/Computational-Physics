{
 "cells": [
  {
   "cell_type": "markdown",
   "metadata": {},
   "source": [
    "# Preamble"
   ]
  },
  {
   "cell_type": "code",
   "execution_count": null,
   "metadata": {},
   "outputs": [],
   "source": [
    "from trapInt import f, trap\n"
   ]
  },
  {
   "cell_type": "markdown",
   "metadata": {},
   "source": [
    "# Simpson's Rule"
   ]
  },
  {
   "cell_type": "code",
   "execution_count": null,
   "metadata": {},
   "outputs": [],
   "source": [
    "def simp(n, min, max):\n",
    "    if n % 2 == 0:\n",
    "        print(\"Error: n must be odd\")\n",
    "        return None\n",
    "        \n",
    "    dx = (max - min) / (n-1)\n",
    "    sum = 0.0\n",
    "\n",
    "    for i in range(1, n-1):\n",
    "        x = min + i*dx\n",
    "        if i % 2 == 0:\n",
    "            sum += 2*f(x)\n",
    "        else:\n",
    "            sum += 4*f(x)\n",
    "    \n",
    "    # Add the endpoints\n",
    "    sum += f(min) + f(max)\n",
    "    sum *= dx/3.0\n",
    "\n",
    "    return sum"
   ]
  }
 ],
 "metadata": {
  "language_info": {
   "name": "python"
  },
  "orig_nbformat": 4
 },
 "nbformat": 4,
 "nbformat_minor": 2
}
