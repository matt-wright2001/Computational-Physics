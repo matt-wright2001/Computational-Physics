{
 "cells": [
  {
   "cell_type": "markdown",
   "metadata": {},
   "source": [
    "### Preamble"
   ]
  },
  {
   "cell_type": "code",
   "execution_count": 2,
   "metadata": {},
   "outputs": [],
   "source": [
    "import matplotlib.pyplot as plt\n",
    "import numpy as np\n",
    "from trapInt import funct, trap, trapIntMain"
   ]
  },
  {
   "cell_type": "markdown",
   "metadata": {},
   "source": [
    "### Simpson's Rule"
   ]
  },
  {
   "cell_type": "code",
   "execution_count": 3,
   "metadata": {},
   "outputs": [],
   "source": [
    "def simp(n, min, max):\n",
    "    if n % 2 == 0:\n",
    "        print(\"Error: n must be odd\")\n",
    "        return None\n",
    "        \n",
    "    dx = (max - min) / (n-1)\n",
    "    sum = 0.0\n",
    "\n",
    "    for i in range(1, n-1):\n",
    "        x = min + i*dx\n",
    "        if i % 2 == 0:\n",
    "            sum += 2*funct(x)\n",
    "        else:\n",
    "            sum += 4*funct(x)\n",
    "    \n",
    "    # Add the endpoints\n",
    "    sum += funct(min) + funct(max)\n",
    "    sum *= dx/3.0\n",
    "    \n",
    "\n",
    "    nextN = 2*n + 1\n",
    "    newDeltaX = (max - min) / (2*n)\n",
    "    sumNextN = 0\n",
    "\n",
    "    for i in range(nextN):\n",
    "        x = min + i*newDeltaX\n",
    "\n",
    "    return sum"
   ]
  },
  {
   "cell_type": "markdown",
   "metadata": {},
   "source": [
    "### Testing Simpson's Rule function"
   ]
  },
  {
   "cell_type": "code",
   "execution_count": 4,
   "metadata": {},
   "outputs": [
    {
     "data": {
      "text/plain": [
       "\"\\nfor i in range(3, 10000, 2):\\n    approx = simp(i, a, b)\\n    error = abs(exact - approx)\\n    print('{:6d}{:.12e}'.format(i, error))\\nfor i in range(1001, 3000000, 10000):\\n    approx = simp(i, a, b)\\n    error = abs(exact - approx)\\n    print('{:6d}{:.12e}'.format(i, error))\\n\""
      ]
     },
     "execution_count": 4,
     "metadata": {},
     "output_type": "execute_result"
    }
   ],
   "source": [
    "a = 1.0\n",
    "b = 2.0\n",
    "exact = (2/3) * (b ** (3/2) - a ** (3/2))\n",
    "\n",
    "'''\n",
    "for i in range(3, 10000, 2):\n",
    "    approx = simp(i, a, b)\n",
    "    error = abs(exact - approx)\n",
    "    print('{:6d}{:.12e}'.format(i, error))\n",
    "for i in range(1001, 3000000, 10000):\n",
    "    approx = simp(i, a, b)\n",
    "    error = abs(exact - approx)\n",
    "    print('{:6d}{:.12e}'.format(i, error))\n",
    "''' \n"
   ]
  },
  {
   "cell_type": "markdown",
   "metadata": {},
   "source": [
    "## Error plots\n",
    "\n",
    "\n",
    "# Regression Polynomials\n",
    "Only the approximation dominate region of the trapezoid rule data can be fit to a degree of reasonable accuracy due to the noisey data after the minimum. The trapezoid rule's approximation region produced the following polynomial: $y=0.13137 \\dot x^{-2.0088}$. Simpson's rule data could be fit both in the approximation and round-off dominate regions producing the following polynomials respectively: $y=0.0025411\\cdot x^{-4.0628}$ and $1.0443 \\times 10^{-18} \\cdot x^{0.73038}$."
   ]
  },
  {
   "cell_type": "code",
   "execution_count": null,
   "metadata": {},
   "outputs": [],
   "source": []
  },
  {
   "cell_type": "markdown",
   "metadata": {},
   "source": [
    "# Optimum N for least total error\n",
    "Optimum values of N may be determined by manual inspection of the xmgrace plots.  The optimum N occurs at minima of the trapezoid and Simpson rules error data. Using this method, $N\\approx 10^6$ for the trapezoid rule and $N\\approx 10^{3.5}$ for Simpson's rule. These values can be determined analytically using Equations 5.23 and 5.25.\n",
    "\n",
    "# Graduate Problem"
   ]
  },
  {
   "cell_type": "code",
   "execution_count": 5,
   "metadata": {},
   "outputs": [
    {
     "ename": "SyntaxError",
     "evalue": "invalid syntax (3986702206.py, line 1)",
     "output_type": "error",
     "traceback": [
      "\u001b[1;36m  Cell \u001b[1;32mIn[5], line 1\u001b[1;36m\u001b[0m\n\u001b[1;33m    trapErrorEst = abs( / )\u001b[0m\n\u001b[1;37m                        ^\u001b[0m\n\u001b[1;31mSyntaxError\u001b[0m\u001b[1;31m:\u001b[0m invalid syntax\n"
     ]
    }
   ],
   "source": [
    "trapErrorEst = abs( / )\n",
    "simpErrorEst = abs( / )"
   ]
  },
  {
   "cell_type": "markdown",
   "metadata": {},
   "source": []
  }
 ],
 "metadata": {
  "kernelspec": {
   "display_name": "Python 3 (ipykernel)",
   "language": "python",
   "name": "python3"
  },
  "language_info": {
   "codemirror_mode": {
    "name": "ipython",
    "version": 3
   },
   "file_extension": ".py",
   "mimetype": "text/x-python",
   "name": "python",
   "nbconvert_exporter": "python",
   "pygments_lexer": "ipython3",
   "version": "3.11.5"
  }
 },
 "nbformat": 4,
 "nbformat_minor": 4
}
