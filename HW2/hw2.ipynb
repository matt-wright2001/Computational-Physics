{
 "cells": [
  {
   "cell_type": "markdown",
   "metadata": {},
   "source": [
    "### Preamble and Function Definitions"
   ]
  },
  {
   "cell_type": "code",
   "execution_count": 1,
   "metadata": {},
   "outputs": [],
   "source": [
    "## Homework 2: Numerical Integration\n",
    "## Matt Wright\n",
    "## Due Date: 9/6/2023\n",
    "\n",
    "import numpy as np\n",
    "from math import sqrt\n",
    "\n",
    "def simp(n, min, max):\n",
    "    if n % 2 == 0:\n",
    "        print(\"Error: n must be odd\")\n",
    "        return None\n",
    "        \n",
    "    dx = (max - min) / (n-1)\n",
    "    sum = 0.0\n",
    "\n",
    "    for i in range(1, n-1):\n",
    "        x = min + i*dx\n",
    "        if i % 2 == 0:\n",
    "            sum += 2*funct(x)\n",
    "        else:\n",
    "            sum += 4*funct(x)\n",
    "    \n",
    "    # Add the endpoints\n",
    "    sum += funct(min) + funct(max)\n",
    "    sum *= dx/3.0\n",
    "\n",
    "    return sum\n",
    "\n",
    "def trap(n, min, max):\n",
    "    dx = (max - min) / (n-1)\n",
    "    sum = 0.0\n",
    "    # sum points inside interval\n",
    "    for i in range(1, n - 1):\n",
    "        x = min + dx * i\n",
    "        sum += funct(x)\n",
    "\n",
    "    # add endpoints\n",
    "    sum *= dx\n",
    "    return sum\n",
    "\n",
    "def funct(x):\n",
    "    return sqrt(x)"
   ]
  },
  {
   "cell_type": "markdown",
   "metadata": {},
   "source": [
    "### Error Calculations"
   ]
  },
  {
   "cell_type": "code",
   "execution_count": 2,
   "metadata": {},
   "outputs": [],
   "source": [
    "a = 1.0\n",
    "b = 2.0\n",
    "exact = (2/3) * (b ** (3/2) - a ** (3/2))\n",
    "\n",
    "with open('simpError.dat', 'w') as f:\n",
    "    for i in range(3, 10000, 2):\n",
    "        approx = simp(i, a, b)\n",
    "        error = abs(exact - approx)\n",
    "        f.write('{:6d} {:.12e}\\n'.format(i, error))\n",
    "\n",
    "    # for larger N, skip some values to save time\n",
    "    for i in range(1001, 3000000, 10000):\n",
    "        approx = simp(i, a, b)\n",
    "        error = abs(exact - approx)\n",
    "        f.write('{:6d} {:.12e}\\n'.format(i, error))\n",
    "\n",
    "with open('trapError.dat', 'w') as f:\n",
    "    for i in range(3, 10000, 2):\n",
    "        trapError = abs(trap(i, a, b) - exact)\n",
    "        f.write('{:6d} {:.12e}\\n'.format(i,trapError))\n",
    "\n",
    "    # for larger N, skip some values to save time\n",
    "    for i in range(10001, 10 ** 6, 5 * 10 ** 5):\n",
    "        trapError = abs(trap(i, a, b) - exact)\n",
    "        f.write('{:6d} {:.12e}\\n'.format(i,trapError))"
   ]
  },
  {
   "cell_type": "markdown",
   "metadata": {},
   "source": [
    "## Error Plots with Regression Polynomials \n",
    "![Trapozoid and Simpson](./errorPlot.png)\n",
    "Only the approximation dominate region of the trapezoid rule data can be fit due to the large values of $N$ required to calculate the round-off dominant region. The trapezoid rule's approximation region produced the following polynomial: $\\xi=1.2383 \\cdot N^{-1.003}$. Simpson's rule data could be fit both in the approximation and round-off dominate regions producing the following polynomials respectively: $\\xi=0.0025991\\cdot N^{-4.0719}$ and $\\xi=1.5489 \\times 10^{-17} \\cdot N^{0.51375}$. \n",
    "\n",
    "## Random Walk Error\n",
    "Random-walk statistics predict error to grow as $\\xi\\approx\\sqrt{N}\\epsilon_{m}$. Random walk and the error dependance found by fitting Simpson's error and very similar: $\\xi_{RW} \\propto N^{0.5}$ and $\\xi_{Simp} \\propto N^{0.51375} \\rightarrow \\xi_{RW}\\approx\\xi_{Simp}$.\n",
    "![Random Walk](./randWalk.png)"
   ]
  },
  {
   "cell_type": "code",
   "execution_count": 3,
   "metadata": {},
   "outputs": [],
   "source": [
    "machineEpsilon = np.finfo(float).eps\n",
    "\n",
    "with open('randWalk.dat', 'w') as f:\n",
    "    for i in range(3, 10000, 2):\n",
    "        randWalk = sqrt(i) * machineEpsilon\n",
    "        f.write('{:6d} {:.12e}\\n'.format(i, randWalk))\n",
    "\n",
    "    for i in range(1001, 3000000, 10000):\n",
    "        randWalk = sqrt(i) * machineEpsilon\n",
    "        f.write('{:6d} {:.12e}\\n'.format(i, randWalk))"
   ]
  },
  {
   "cell_type": "markdown",
   "metadata": {},
   "source": [
    "# Optimum N for least total error\n",
    "Optimum values of N may be determined by manual inspection of the xmgrace plots.  The optimum N occurs at minima of the trapezoid and Simpson rules error data. Graphical inspection indicates $N\\approx 10^6$ for the trapezoid rule and $N\\approx 10^{3.75}\\approx 5620$ for Simpson's rule. These values were derived in class analytically to be $\\approx 4\\times 10^6$ and $\\approx 6000$.  While not perfect, they are a reasonable approximation for manual inspection.\n",
    "\n",
    "\n",
    "\n",
    "# Graduate Problem"
   ]
  },
  {
   "cell_type": "code",
   "execution_count": 4,
   "metadata": {},
   "outputs": [],
   "source": [
    "def simpGrad(n, min, max):\n",
    "    if n % 2 == 0:\n",
    "        print(\"Error: n must be odd\")\n",
    "        return None\n",
    "\n",
    "    dx = (max - min) / n\n",
    "    sum = funct(min) + funct(max)\n",
    "\n",
    "    for i in range(1, n, 2):\n",
    "        x = min + i*dx\n",
    "        sum += 4*funct(x)\n",
    "\n",
    "    for i in range(2, n-1, 2):\n",
    "        x = min + i*dx\n",
    "        sum += 2*funct(x)\n",
    "    \n",
    "    sum *= dx/3.0\n",
    "    return sum\n",
    "\n",
    "def trapGrad(n, min, max):\n",
    "    dx = (max - min) / n\n",
    "    sum = (funct(min) + funct(max)) / 2.0\n",
    "\n",
    "    for i in range(1, n):\n",
    "        x = min + i*dx\n",
    "        sum += funct(x)\n",
    "\n",
    "    sum *= dx\n",
    "    return sum\n",
    "\n",
    "\n",
    "with open('simpGrad.dat', 'w') as f:\n",
    "    for i in range(3, 10000, 2):\n",
    "        A_N = simpGrad(i, a, b)\n",
    "        A_2Np1 = simpGrad(2*i+1, a, b)\n",
    "        error = abs((A_N - A_2Np1) / A_2Np1)\n",
    "        f.write(f'{i} {error}\\n')\n",
    "\n",
    "\n",
    "with open('trapGrad.dat', 'w') as f:\n",
    "    for i in range(3, 10000, 2):\n",
    "        A_N = trapGrad(i, a, b)\n",
    "        A_2N = trapGrad(2*i, a, b)\n",
    "        error = abs((A_N - A_2N) / A_2N)\n",
    "        f.write(f'{i} {error}\\n')"
   ]
  },
  {
   "cell_type": "markdown",
   "metadata": {},
   "source": []
  }
 ],
 "metadata": {
  "kernelspec": {
   "display_name": "Python 3 (ipykernel)",
   "language": "python",
   "name": "python3"
  },
  "language_info": {
   "codemirror_mode": {
    "name": "ipython",
    "version": 3
   },
   "file_extension": ".py",
   "mimetype": "text/x-python",
   "name": "python",
   "nbconvert_exporter": "python",
   "pygments_lexer": "ipython3",
   "version": "3.11.3"
  }
 },
 "nbformat": 4,
 "nbformat_minor": 4
}
