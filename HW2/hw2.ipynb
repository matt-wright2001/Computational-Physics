{
 "cells": [
  {
   "cell_type": "markdown",
   "metadata": {},
   "source": [
    "### Preamble"
   ]
  },
  {
   "cell_type": "code",
   "execution_count": 1,
   "metadata": {},
   "outputs": [
    {
     "name": "stdout",
     "output_type": "stream",
     "text": [
      "0.00012071080015974012\n",
      "1.0973699009486637e-05\n",
      "5.748127799298786e-06\n",
      "3.893892953410472e-06\n",
      "2.9441629314508333e-06\n",
      "2.3668760840145353e-06\n",
      "1.978863622742466e-06\n",
      "1.7001503740399215e-06\n",
      "1.4902552907258837e-06\n",
      "1.3264910354582327e-06\n",
      "1.1951552907341068e-06\n",
      "1.0874835905116953e-06\n",
      "9.976088803931304e-07\n",
      "9.214555585224105e-07\n",
      "8.561041711097062e-07\n",
      "7.994084818552238e-07\n",
      "7.497557561464419e-07\n",
      "7.059104956130824e-07\n",
      "6.669098127076722e-07\n",
      "6.319930814235875e-07\n",
      "6.005505852613169e-07\n",
      "5.720885576376844e-07\n",
      "5.462022005797706e-07\n",
      "5.225571035882837e-07\n",
      "5.008742760548301e-07\n",
      "4.809189433352401e-07\n",
      "4.6249303031764555e-07\n",
      "4.4542686628012973e-07\n",
      "4.29575347959954e-07\n",
      "4.1481351287231405e-07\n",
      "4.010321112968285e-07\n",
      "3.88137218365614e-07\n",
      "3.7604563707382965e-07\n",
      "3.6468481701135147e-07\n",
      "3.539902808658013e-07\n",
      "3.4390511705062465e-07\n",
      "3.3437858859564074e-07\n",
      "3.253657292479062e-07\n",
      "3.1682594081594573e-07\n",
      "3.087229369924671e-07\n",
      "3.0102411252563854e-07\n",
      "2.936998917402178e-07\n",
      "2.867236768011594e-07\n",
      "2.800711322858973e-07\n",
      "2.73720528687349e-07\n",
      "2.67651315555284e-07\n",
      "2.618452585867459e-07\n",
      "2.56285779931531e-07\n",
      "2.5095786249096363e-07\n",
      "2.4584651536763147e-07\n",
      "2.409395110092305e-07\n",
      "2.36224462657475e-07\n",
      "2.3169046059479115e-07\n",
      "2.273271051400627e-07\n",
      "2.2312504932564536e-07\n",
      "2.1907567226975289e-07\n",
      "2.1517056514319677e-07\n",
      "2.1140220485271755e-07\n",
      "2.0776371756348055e-07\n",
      "2.0424819924258486e-07\n",
      "2.008496369221291e-07\n",
      "1.975623742378474e-07\n",
      "1.9438124998494288e-07\n",
      "1.9130054274008046e-07\n",
      "1.883162565885499e-07\n",
      "1.854233975251418e-07\n",
      "1.826181910136171e-07\n",
      "1.7989679923502422e-07\n",
      "1.772549709233573e-07\n",
      "1.746897475563003e-07\n",
      "1.7219784087529888e-07\n",
      "1.697758666985294e-07\n",
      "1.674212801727748e-07\n",
      "1.6513107414795059e-07\n",
      "1.6290223303627727e-07\n",
      "1.6073328401589038e-07\n",
      "1.5862105340325172e-07\n",
      "1.5656369911631884e-07\n",
      "1.545591588048012e-07\n",
      "1.5260509989012405e-07\n",
      "1.5069989611760093e-07\n",
      "1.488416525585734e-07\n",
      "1.4702894524099008e-07\n",
      "1.452594626805137e-07\n",
      "1.435323448983894e-07\n",
      "1.4184570629183213e-07\n",
      "1.4019842753398848e-07\n",
      "1.3858855729687036e-07\n",
      "1.3701548096101135e-07\n",
      "1.3547787469647687e-07\n",
      "1.3397423237471173e-07\n",
      "1.3250353081417643e-07\n",
      "1.3106486806968576e-07\n",
      "1.2965705931122784e-07\n",
      "1.2827906958889912e-07\n",
      "1.2693034179278584e-07\n",
      "1.2560943840611571e-07\n",
      "1.2431585982852766e-07\n",
      "1.23048591982311e-07\n",
      "1.2180697539498908e-07\n",
      "1.2058996223807128e-07\n",
      "1.193973502289225e-07\n",
      "1.182277975519952e-07\n",
      "1.1708130864818145e-07\n",
      "1.1595641380424127e-07\n",
      "1.1485323403448433e-07\n",
      "1.1377086850394846e-07\n",
      "1.1270835442722671e-07\n",
      "1.1166568203435645e-07\n",
      "1.1064206972832835e-07\n",
      "1.096373729581046e-07\n",
      "1.0865043109653527e-07\n",
      "1.0768131963878602e-07\n",
      "1.0672932537758584e-07\n",
      "1.057938703308281e-07\n"
     ]
    },
    {
     "ename": "KeyboardInterrupt",
     "evalue": "",
     "output_type": "error",
     "traceback": [
      "\u001b[1;31m---------------------------------------------------------------------------\u001b[0m",
      "\u001b[1;31mKeyboardInterrupt\u001b[0m                         Traceback (most recent call last)",
      "\u001b[1;32mc:\\Users\\mw2680\\OneDrive - Mississippi State University\\Documents\\GitHub\\Computational Physics\\HW2\\hw2.ipynb Cell 2\u001b[0m line \u001b[0;36m3\n\u001b[0;32m      <a href='vscode-notebook-cell:/c%3A/Users/mw2680/OneDrive%20-%20Mississippi%20State%20University/Documents/GitHub/Computational%20Physics/HW2/hw2.ipynb#X14sZmlsZQ%3D%3D?line=0'>1</a>\u001b[0m \u001b[39mimport\u001b[39;00m \u001b[39mmatplotlib\u001b[39;00m\u001b[39m.\u001b[39;00m\u001b[39mpyplot\u001b[39;00m \u001b[39mas\u001b[39;00m \u001b[39mplt\u001b[39;00m\n\u001b[0;32m      <a href='vscode-notebook-cell:/c%3A/Users/mw2680/OneDrive%20-%20Mississippi%20State%20University/Documents/GitHub/Computational%20Physics/HW2/hw2.ipynb#X14sZmlsZQ%3D%3D?line=1'>2</a>\u001b[0m \u001b[39mimport\u001b[39;00m \u001b[39mnumpy\u001b[39;00m \u001b[39mas\u001b[39;00m \u001b[39mnp\u001b[39;00m\n\u001b[1;32m----> <a href='vscode-notebook-cell:/c%3A/Users/mw2680/OneDrive%20-%20Mississippi%20State%20University/Documents/GitHub/Computational%20Physics/HW2/hw2.ipynb#X14sZmlsZQ%3D%3D?line=2'>3</a>\u001b[0m \u001b[39mfrom\u001b[39;00m \u001b[39mtrapInt\u001b[39;00m \u001b[39mimport\u001b[39;00m funct, trap, trapIntMain \n",
      "File \u001b[1;32mc:\\Users\\mw2680\\OneDrive - Mississippi State University\\Documents\\GitHub\\Computational Physics\\HW2\\trapInt.py:48\u001b[0m\n\u001b[0;32m     45\u001b[0m             \u001b[39mprint\u001b[39m(trapError)\n\u001b[0;32m     46\u001b[0m             f\u001b[39m.\u001b[39mwrite(\u001b[39m'\u001b[39m\u001b[39m{:6d}\u001b[39;00m\u001b[39m \u001b[39m\u001b[39m{:.12e}\u001b[39;00m\u001b[39m\\n\u001b[39;00m\u001b[39m'\u001b[39m\u001b[39m.\u001b[39mformat(i,trapError))\n\u001b[1;32m---> 48\u001b[0m trapIntMain()\n",
      "File \u001b[1;32mc:\\Users\\mw2680\\OneDrive - Mississippi State University\\Documents\\GitHub\\Computational Physics\\HW2\\trapInt.py:44\u001b[0m, in \u001b[0;36mtrapIntMain\u001b[1;34m()\u001b[0m\n\u001b[0;32m     42\u001b[0m \u001b[39m# for larger N, skip some values to save time\u001b[39;00m\n\u001b[0;32m     43\u001b[0m \u001b[39mfor\u001b[39;00m i \u001b[39min\u001b[39;00m \u001b[39mrange\u001b[39m(\u001b[39m10001\u001b[39m, \u001b[39m100000000\u001b[39m, \u001b[39m100000\u001b[39m):\n\u001b[1;32m---> 44\u001b[0m     trapError \u001b[39m=\u001b[39m \u001b[39mabs\u001b[39m(trap(i, a, b) \u001b[39m-\u001b[39m exact)\n\u001b[0;32m     45\u001b[0m     \u001b[39mprint\u001b[39m(trapError)\n\u001b[0;32m     46\u001b[0m     f\u001b[39m.\u001b[39mwrite(\u001b[39m'\u001b[39m\u001b[39m{:6d}\u001b[39;00m\u001b[39m \u001b[39m\u001b[39m{:.12e}\u001b[39;00m\u001b[39m\\n\u001b[39;00m\u001b[39m'\u001b[39m\u001b[39m.\u001b[39mformat(i,trapError))\n",
      "File \u001b[1;32mc:\\Users\\mw2680\\OneDrive - Mississippi State University\\Documents\\GitHub\\Computational Physics\\HW2\\trapInt.py:21\u001b[0m, in \u001b[0;36mtrap\u001b[1;34m(n, min, max)\u001b[0m\n\u001b[0;32m     19\u001b[0m \u001b[39mfor\u001b[39;00m i \u001b[39min\u001b[39;00m \u001b[39mrange\u001b[39m(\u001b[39m1\u001b[39m, n \u001b[39m-\u001b[39m \u001b[39m1\u001b[39m):\n\u001b[0;32m     20\u001b[0m     x \u001b[39m=\u001b[39m \u001b[39mmin\u001b[39m \u001b[39m+\u001b[39m dx \u001b[39m*\u001b[39m i\n\u001b[1;32m---> 21\u001b[0m     \u001b[39msum\u001b[39m \u001b[39m+\u001b[39m\u001b[39m=\u001b[39m funct(x)\n\u001b[0;32m     23\u001b[0m \u001b[39m# add endpoints\u001b[39;00m\n\u001b[0;32m     24\u001b[0m \u001b[39msum\u001b[39m \u001b[39m*\u001b[39m\u001b[39m=\u001b[39m dx\n",
      "\u001b[1;31mKeyboardInterrupt\u001b[0m: "
     ]
    }
   ],
   "source": [
    "import matplotlib.pyplot as plt\n",
    "import numpy as np\n",
    "from trapInt import funct, trap, trapIntMain "
   ]
  },
  {
   "cell_type": "markdown",
   "metadata": {},
   "source": [
    "### Simpson's Rule"
   ]
  },
  {
   "cell_type": "code",
   "execution_count": null,
   "metadata": {},
   "outputs": [],
   "source": [
    "def simp(n, min, max):\n",
    "    if n % 2 == 0:\n",
    "        print(\"Error: n must be odd\")\n",
    "        return None\n",
    "        \n",
    "    dx = (max - min) / (n-1)\n",
    "    sum = 0.0\n",
    "\n",
    "    for i in range(1, n-1):\n",
    "        x = min + i*dx\n",
    "        if i % 2 == 0:\n",
    "            sum += 2*funct(x)\n",
    "        else:\n",
    "            sum += 4*funct(x)\n",
    "    \n",
    "    # Add the endpoints\n",
    "    sum += funct(min) + funct(max)\n",
    "    sum *= dx/3.0\n",
    "    \n",
    "\n",
    "    nextN = 2*n + 1\n",
    "    newDeltaX = (max - min) / (2*n)\n",
    "    sumNextN = 0\n",
    "\n",
    "    for i in range(nextN):\n",
    "        x = min + i*newDeltaX\n",
    "\n",
    "    return sum"
   ]
  },
  {
   "cell_type": "markdown",
   "metadata": {},
   "source": [
    "### Testing Simpson's Rule function"
   ]
  },
  {
   "cell_type": "code",
   "execution_count": null,
   "metadata": {},
   "outputs": [],
   "source": [
    "a = 1.0\n",
    "b = 2.0\n",
    "exact = (2/3) * (b ** (3/2) - a ** (3/2))\n",
    "\n",
    "'''\n",
    "for i in range(3, 10000, 2):\n",
    "    approx = simp(i, a, b)\n",
    "    error = abs(exact - approx)\n",
    "    print('{:6d}{:.12e}'.format(i, error))\n",
    "for i in range(1001, 3000000, 10000):\n",
    "    approx = simp(i, a, b)\n",
    "    error = abs(exact - approx)\n",
    "    print('{:6d}{:.12e}'.format(i, error))\n",
    "''' \n"
   ]
  },
  {
   "cell_type": "markdown",
   "metadata": {},
   "source": [
    "## Error plots\n",
    "\n",
    "\n",
    "# Regression Polynomials \n",
    "\n",
    "Only the approximation dominate region of the trapezoid rule data can be fit due to the large values of $N$ required to calculate the round-off dominant region. The trapezoid rule's approximation region produced the following polynomial: $y=1.2383 \\cdot x^{-1.003}$. Simpson's rule data could be fit both in the approximation and round-off dominate regions producing the following polynomials respectively: $y=0.0025991\\cdot x^{-4.0719}$ and $1.5489 \\times 10^{-17} \\cdot x^{0.51375}$. "
   ]
  },
  {
   "cell_type": "code",
   "execution_count": null,
   "metadata": {},
   "outputs": [],
   "source": []
  },
  {
   "cell_type": "markdown",
   "metadata": {},
   "source": [
    "# Optimum N for least total error\n",
    "Optimum values of N may be determined by manual inspection of the xmgrace plots.  The optimum N occurs at minima of the trapezoid and Simpson rules error data. Using this method, $N\\approx 10^6$ for the trapezoid rule and $N\\approx 10^{3.5}$ for Simpson's rule. These values can be determined analytically using Equations 5.23 and 5.25.\n",
    "\n",
    "# Graduate Problem"
   ]
  },
  {
   "cell_type": "code",
   "execution_count": null,
   "metadata": {},
   "outputs": [],
   "source": [
    "trapErrorEst = abs( / )\n",
    "simpErrorEst = abs( / )"
   ]
  },
  {
   "cell_type": "markdown",
   "metadata": {},
   "source": []
  }
 ],
 "metadata": {
  "kernelspec": {
   "display_name": "Python 3 (ipykernel)",
   "language": "python",
   "name": "python3"
  },
  "language_info": {
   "codemirror_mode": {
    "name": "ipython",
    "version": 3
   },
   "file_extension": ".py",
   "mimetype": "text/x-python",
   "name": "python",
   "nbconvert_exporter": "python",
   "pygments_lexer": "ipython3",
   "version": "3.11.5"
  }
 },
 "nbformat": 4,
 "nbformat_minor": 4
}
