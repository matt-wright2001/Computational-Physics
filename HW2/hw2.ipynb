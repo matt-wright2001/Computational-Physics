{
 "cells": [
  {
   "cell_type": "markdown",
   "metadata": {},
   "source": [
    "### Preamble"
   ]
  },
  {
   "cell_type": "code",
   "execution_count": 1,
   "metadata": {},
   "outputs": [],
   "source": [
    "import matplotlib.pyplot as plt\n",
    "import numpy as np\n",
    "from math import sqrt\n",
    "from trapInt import funct, trap"
   ]
  },
  {
   "cell_type": "markdown",
   "metadata": {},
   "source": [
    "### Simpson's Rule"
   ]
  },
  {
   "cell_type": "code",
   "execution_count": 2,
   "metadata": {},
   "outputs": [],
   "source": [
    "def simp(n, min, max):\n",
    "    if n % 2 == 0:\n",
    "        print(\"Error: n must be odd\")\n",
    "        return None\n",
    "        \n",
    "    dx = (max - min) / (n-1)\n",
    "    sum = 0.0\n",
    "\n",
    "    for i in range(1, n-1):\n",
    "        x = min + i*dx\n",
    "        if i % 2 == 0:\n",
    "            sum += 2*funct(x)\n",
    "        else:\n",
    "            sum += 4*funct(x)\n",
    "    \n",
    "    # Add the endpoints\n",
    "    sum += funct(min) + funct(max)\n",
    "    sum *= dx/3.0\n",
    "\n",
    "    return sum"
   ]
  },
  {
   "cell_type": "markdown",
   "metadata": {},
   "source": [
    "### Testing Simpson's Rule function"
   ]
  },
  {
   "cell_type": "code",
   "execution_count": 3,
   "metadata": {},
   "outputs": [],
   "source": [
    "a = 1.0\n",
    "b = 2.0\n",
    "exact = (2/3) * (b ** (3/2) - a ** (3/2))\n",
    "\n",
    "with open('simpsonError.dat', 'w') as f:\n",
    "    for i in range(3, 10000, 2):\n",
    "        approx = simp(i, a, b)\n",
    "        error = abs(exact - approx)\n",
    "        f.write('{:6d} {:.12e}\\n'.format(i, error))\n",
    "\n",
    "    for i in range(1001, 3000000, 10000):\n",
    "        approx = simp(i, a, b)\n",
    "        error = abs(exact - approx)\n",
    "        f.write('{:6d} {:.12e}\\n'.format(i, error))"
   ]
  },
  {
   "cell_type": "markdown",
   "metadata": {},
   "source": [
    "## Error plots\n",
    "\n",
    "\n",
    "# Regression Polynomials \n",
    "\n",
    "Only the approximation dominate region of the trapezoid rule data can be fit due to the large values of $N$ required to calculate the round-off dominant region. The trapezoid rule's approximation region produced the following polynomial: $\\xi=1.2383 \\cdot N^{-1.003}$. Simpson's rule data could be fit both in the approximation and round-off dominate regions producing the following polynomials respectively: $\\xi=0.0025991\\cdot N^{-4.0719}$ and $\\xi=1.5489 \\times 10^{-17} \\cdot N^{0.51375}$. \n",
    "\n",
    "## Random Walk Error\n",
    "Random-walk statistics predict error to grow as $\\xi\\approx\\sqrt{N}\\epsilon_{m}$. Random walk and the error dependance found by fitting Simpson's error and very similar: $\\xi_{RW} \\propto N^{0.5}$ and $\\xi_{Simp} \\propto N^{0.51375} \\rightarrow \\xi_{RW}\\approx\\xi_{Simp}$."
   ]
  },
  {
   "cell_type": "code",
   "execution_count": 4,
   "metadata": {},
   "outputs": [],
   "source": [
    "machineEpsilon = np.finfo(float).eps\n",
    "\n",
    "with open('randWalk.dat', 'w') as f:\n",
    "    for i in range(3, 10000, 2):\n",
    "        randWalk = sqrt(i) * machineEpsilon\n",
    "        f.write('{:6d} {:.12e}\\n'.format(i, randWalk))\n",
    "\n",
    "    for i in range(1001, 3000000, 10000):\n",
    "        randWalk = sqrt(i) * machineEpsilon\n",
    "        f.write('{:6d} {:.12e}\\n'.format(i, randWalk))"
   ]
  },
  {
   "cell_type": "markdown",
   "metadata": {},
   "source": [
    "# Optimum N for least total error\n",
    "Optimum values of N may be determined by manual inspection of the xmgrace plots.  The optimum N occurs at minima of the trapezoid and Simpson rules error data. Using this method, $N\\approx 10^6$ for the trapezoid rule and $N\\approx 10^{3.5}$ for Simpson's rule. These values can be determined analytically using Equations 5.23 and 5.25.\n",
    "\n",
    "# Graduate Problem"
   ]
  },
  {
   "cell_type": "code",
   "execution_count": 5,
   "metadata": {},
   "outputs": [
    {
     "ename": "SyntaxError",
     "evalue": "invalid syntax (3986702206.py, line 1)",
     "output_type": "error",
     "traceback": [
      "\u001b[1;36m  Cell \u001b[1;32mIn[5], line 1\u001b[1;36m\u001b[0m\n\u001b[1;33m    trapErrorEst = abs( / )\u001b[0m\n\u001b[1;37m                        ^\u001b[0m\n\u001b[1;31mSyntaxError\u001b[0m\u001b[1;31m:\u001b[0m invalid syntax\n"
     ]
    }
   ],
   "source": [
    "trapErrorEst = abs( / )\n",
    "simpErrorEst = abs( / )"
   ]
  },
  {
   "cell_type": "markdown",
   "metadata": {},
   "source": []
  }
 ],
 "metadata": {
  "kernelspec": {
   "display_name": "Python 3 (ipykernel)",
   "language": "python",
   "name": "python3"
  },
  "language_info": {
   "codemirror_mode": {
    "name": "ipython",
    "version": 3
   },
   "file_extension": ".py",
   "mimetype": "text/x-python",
   "name": "python",
   "nbconvert_exporter": "python",
   "pygments_lexer": "ipython3",
   "version": "3.11.3"
  }
 },
 "nbformat": 4,
 "nbformat_minor": 4
}
