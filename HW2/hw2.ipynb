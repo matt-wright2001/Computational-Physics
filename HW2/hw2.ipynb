{
 "cells": [
  {
   "cell_type": "markdown",
   "metadata": {},
   "source": [
    "### Preamble"
   ]
  },
  {
   "cell_type": "code",
   "execution_count": 1,
   "metadata": {},
   "outputs": [],
   "source": [
    "import matplotlib.pyplot as plt\n",
    "import numpy as np\n",
    "from trapInt import funct, trap, trapIntMain"
   ]
  },
  {
   "cell_type": "markdown",
   "metadata": {},
   "source": [
    "### Simpson's Rule"
   ]
  },
  {
   "cell_type": "code",
   "execution_count": 2,
   "metadata": {},
   "outputs": [],
   "source": [
    "def simp(n, min, max):\n",
    "    if n % 2 == 0:\n",
    "        print(\"Error: n must be odd\")\n",
    "        return None\n",
    "        \n",
    "    dx = (max - min) / (n-1)\n",
    "    sum = 0.0\n",
    "\n",
    "    for i in range(1, n-1):\n",
    "        x = min + i*dx\n",
    "        if i % 2 == 0:\n",
    "            sum += 2*funct(x)\n",
    "        else:\n",
    "            sum += 4*funct(x)\n",
    "    \n",
    "    # Add the endpoints\n",
    "    sum += funct(min) + funct(max)\n",
    "    sum *= dx/3.0\n",
    "\n",
    "    return sum"
   ]
  },
  {
   "cell_type": "markdown",
   "metadata": {},
   "source": [
    "### Testing Simpson's Rule function"
   ]
  },
  {
   "cell_type": "code",
   "execution_count": 3,
   "metadata": {},
   "outputs": [
    {
     "data": {
      "text/plain": [
       "\"\\nfor i in range(3, 10000, 2):\\n    approx = simp(i, a, b)\\n    error = abs(exact - approx)\\n    print('{:6d}{:.12e}'.format(i, error))\\nfor i in range(1001, 3000000, 10000):\\n    approx = simp(i, a, b)\\n    error = abs(exact - approx)\\n    print('{:6d}{:.12e}'.format(i, error))\\n\""
      ]
     },
     "execution_count": 3,
     "metadata": {},
     "output_type": "execute_result"
    }
   ],
   "source": [
    "a = 1.0\n",
    "b = 2.0\n",
    "exact = (2/3) * (b ** (3/2) - a ** (3/2))\n",
    "'''\n",
    "for i in range(3, 10000, 2):\n",
    "    approx = simp(i, a, b)\n",
    "    error = abs(exact - approx)\n",
    "    print('{:6d}{:.12e}'.format(i, error))\n",
    "for i in range(1001, 3000000, 10000):\n",
    "    approx = simp(i, a, b)\n",
    "    error = abs(exact - approx)\n",
    "    print('{:6d}{:.12e}'.format(i, error))\n",
    "''' \n"
   ]
  },
  {
   "cell_type": "markdown",
   "metadata": {},
   "source": [
    "## Error plots"
   ]
  }
 ],
 "metadata": {
  "kernelspec": {
   "display_name": "Python 3 (ipykernel)",
   "language": "python",
   "name": "python3"
  },
  "language_info": {
   "codemirror_mode": {
    "name": "ipython",
    "version": 3
   },
   "file_extension": ".py",
   "mimetype": "text/x-python",
   "name": "python",
   "nbconvert_exporter": "python",
   "pygments_lexer": "ipython3",
   "version": "3.11.5"
  }
 },
 "nbformat": 4,
 "nbformat_minor": 4
}
