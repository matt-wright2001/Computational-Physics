{
 "cells": [
  {
   "cell_type": "code",
   "execution_count": 15,
   "metadata": {},
   "outputs": [],
   "source": [
    "# Import libraries\n",
    "import sys\n",
    "import numpy as np\n",
    "from math import sqrt"
   ]
  },
  {
   "cell_type": "markdown",
   "metadata": {},
   "source": [
    "# 1) Overflows and Underflows\n",
    "Write a Python program to \"experimentally\" determine the overflow and underflow limits for double precision floating point numbers. This can be done by taking 1.0, repeatedly multiplying or dividing by a factor m, and comparing the result (or its inverse) to zero. What values of m should you choose to produce the most accurate underflow and overflow?"
   ]
  },
  {
   "cell_type": "code",
   "execution_count": 23,
   "metadata": {},
   "outputs": [
    {
     "name": "stdout",
     "output_type": "stream",
     "text": [
      "Actual Overflow: 1.7976931348623157e+308 Actual 2.2250738585072014e-308\n",
      "Underflow:  5e-324 <class 'numpy.float64'>\n",
      "Overflow:  8.98846567431158e+307 <class 'numpy.float64'>\n"
     ]
    },
    {
     "name": "stderr",
     "output_type": "stream",
     "text": [
      "C:\\Users\\mw2680\\AppData\\Local\\Temp\\ipykernel_9356\\1346087400.py:24: RuntimeWarning: overflow encountered in scalar multiply\n",
      "  test = np.float64(test*m)\n"
     ]
    }
   ],
   "source": [
    "# Values based on IEEE 754. Actual values do not consider denormalized numbers.\n",
    "actualOverflow = sys.float_info.max\n",
    "actualUnderflow = sys.float_info.min\n",
    "\n",
    "print(\"Actual Overflow:\", actualOverflow, \"Actual\", actualUnderflow)\n",
    "\n",
    "# Calculation of Underflow\n",
    "test = np.float64(1.0)\n",
    "m = 2 # Powers of 2 can be exactly represented in binary\n",
    "\n",
    "while test > 0:\n",
    "    previousTest = test\n",
    "    test = np.float64(test/m)\n",
    "    if test == 0:\n",
    "        dataType = type(previousTest)\n",
    "        print(\"Underflow: \", previousTest, dataType)\n",
    "\n",
    "\n",
    "# Calculation of Overflow\n",
    "test = np.float64(1.0)\n",
    "\n",
    "while (1/test) > 0:\n",
    "    previousTest = test\n",
    "    test = np.float64(test*m)\n",
    "    if (1/test) == 0:\n",
    "        dataType = type(previousTest)\n",
    "        print(\"Overflow: \", previousTest, dataType)"
   ]
  },
  {
   "cell_type": "markdown",
   "metadata": {},
   "source": [
    "#### Discussion 1\n",
    "Experimental and theoretical over/underflow limits do not match because the experiment allows for the usage of denormalized numbers"
   ]
  },
  {
   "cell_type": "markdown",
   "metadata": {},
   "source": [
    "# 2) Determining Machine Precision\n",
    "Machine precision $\\epsilon$ is the smallest number such that $1.0+\\epsilon \\neq 1.0$. Write a Python program to determine $\\epsilon$ for double precision floating point numbers."
   ]
  },
  {
   "cell_type": "code",
   "execution_count": null,
   "metadata": {},
   "outputs": [],
   "source": []
  },
  {
   "cell_type": "markdown",
   "metadata": {},
   "source": [
    "#### Discussion 2"
   ]
  },
  {
   "cell_type": "markdown",
   "metadata": {},
   "source": [
    "# 3) Addition & Subtraction\n",
    "Write a program to calculate $f(x)= \\sqrt{x^2+1}-1$ and $g(x)=\\frac{x^2}{\\sqrt{x^2+1}+1}$ for $x=2^{-1}, 2^{-2}, ....\\, 2^{-n}$. Theoretically, $f(x)=g(x)$ but numerical results will not be equivilent for large n.  Is $f(x)$ or $g(x)$ more reliable for this calculation?"
   ]
  },
  {
   "cell_type": "code",
   "execution_count": null,
   "metadata": {},
   "outputs": [],
   "source": []
  },
  {
   "cell_type": "markdown",
   "metadata": {},
   "source": [
    "#### Discussion 3"
   ]
  },
  {
   "cell_type": "markdown",
   "metadata": {},
   "source": [
    "# 4) Madelung Constant\n",
    "Exercise 2.9, page 74\n",
    "Write a program to calculate the Madelung constant, $M$, for a three dimensional face-centered cubic crystal like NaCl. You should find $M \\approx 1.747565$. How large must $L$ be to approximate $M$ to 2, 3, and 4 decimal places?\n",
    "\n",
    "#### Hints: \n",
    "<ol> <li> The Madelung constant is a purely geometric factor (i.e., do not include $e$, $\\epsilon_0$, etc. in the program).</li> \n",
    "<li> In the calculation you sum over a set of plus and minus charges in a large cubic box of side L. For the sum to converge correctly to M , the total charge within this box must be zero.</li>\n",
    "</ol>"
   ]
  },
  {
   "cell_type": "code",
   "execution_count": null,
   "metadata": {},
   "outputs": [],
   "source": []
  },
  {
   "cell_type": "markdown",
   "metadata": {},
   "source": [
    "#### Discussion 4"
   ]
  }
 ],
 "metadata": {
  "kernelspec": {
   "display_name": "Python 3",
   "language": "python",
   "name": "python3"
  },
  "language_info": {
   "codemirror_mode": {
    "name": "ipython",
    "version": 3
   },
   "file_extension": ".py",
   "mimetype": "text/x-python",
   "name": "python",
   "nbconvert_exporter": "python",
   "pygments_lexer": "ipython3",
   "version": "3.11.3"
  },
  "orig_nbformat": 4
 },
 "nbformat": 4,
 "nbformat_minor": 2
}
