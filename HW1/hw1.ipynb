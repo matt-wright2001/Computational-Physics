{
 "cells": [
  {
   "cell_type": "markdown",
   "metadata": {},
   "source": [
    "Preamble"
   ]
  },
  {
   "cell_type": "code",
   "execution_count": 1,
   "metadata": {},
   "outputs": [],
   "source": [
    "import sys\n",
    "import numpy as np\n",
    "from math import sqrt"
   ]
  },
  {
   "cell_type": "markdown",
   "metadata": {},
   "source": [
    "# 1) Overflows and Underflows\n",
    "Write a Python program to \"experimentally\" determine the overflow and underflow limits for double precision floating point numbers. This can be done by taking 1.0, repeatedly multiplying or dividing by a factor m, and comparing the result (or its inverse) to zero. What values of m should you choose to produce the most accurate underflow and overflow?"
   ]
  },
  {
   "cell_type": "code",
   "execution_count": 2,
   "metadata": {},
   "outputs": [
    {
     "name": "stdout",
     "output_type": "stream",
     "text": [
      "Actual Overflow: 1.7976931348623157e+308 Actual Underflow: 2.2250738585072014e-308\n",
      "Overflow:  8.98846567431158e+307 <class 'numpy.float64'>\n",
      "Underflow:  5e-324 <class 'numpy.float64'>\n"
     ]
    },
    {
     "name": "stderr",
     "output_type": "stream",
     "text": [
      "C:\\Users\\mw2680\\AppData\\Local\\Temp\\ipykernel_22808\\2133824088.py:13: RuntimeWarning: overflow encountered in scalar multiply\n",
      "  test = np.float64(test*m)\n"
     ]
    }
   ],
   "source": [
    "# Values based on IEEE 754. Theoretical values to compare against experimental results\n",
    "actualOverflow = sys.float_info.max\n",
    "actualUnderflow = sys.float_info.min\n",
    "\n",
    "print(\"Actual Overflow:\", actualOverflow, \"Actual Underflow:\", actualUnderflow)\n",
    "\n",
    "# Calculation of Overflow\n",
    "test = np.float64(1.0)\n",
    "m = 2\n",
    "\n",
    "while (1/test) > 0:\n",
    "    previousTest = test\n",
    "    test = np.float64(test*m)\n",
    "    if (1/test) == 0:\n",
    "        dataType = type(previousTest)\n",
    "        print(\"Overflow: \", previousTest, dataType)\n",
    "\n",
    "# Calculation of Underflow\n",
    "test = np.float64(1.0)\n",
    "\n",
    "while test > 0:\n",
    "    previousTest = test\n",
    "    test = np.float64(test/m)\n",
    "    if test == 0:\n",
    "        dataType = type(previousTest)\n",
    "        print(\"Underflow: \", previousTest, dataType)\n"
   ]
  },
  {
   "cell_type": "markdown",
   "metadata": {},
   "source": [
    "#### Discussion 1\n",
    "Experimental and theoretical over/underflow limits do not match because the experiment allows for the usage of denormalized numbers. $m=2$ was chosen for both underflow and overflow because powers of 2 can be represented exactly in binary."
   ]
  },
  {
   "cell_type": "markdown",
   "metadata": {},
   "source": [
    "# 2) Determining Machine Precision\n",
    "Machine precision $\\epsilon$ is the smallest number such that $1.0+\\epsilon \\neq 1.0$. Write a Python program to determine $\\epsilon$ for double precision floating point numbers."
   ]
  },
  {
   "cell_type": "code",
   "execution_count": 3,
   "metadata": {},
   "outputs": [
    {
     "name": "stdout",
     "output_type": "stream",
     "text": [
      "2.220446049250313e-16\n",
      "2.220446049250313e-16\n"
     ]
    }
   ],
   "source": [
    "actualMachEpsilon = sys.float_info.epsilon\n",
    "print(actualMachEpsilon)\n",
    "\n",
    "epsilon = np.float64(1.0)\n",
    "while (1.0 + epsilon) != 1.0:\n",
    "    previousEpsilon = epsilon\n",
    "    epsilon = np.float64(epsilon/2)\n",
    "print(previousEpsilon)   "
   ]
  },
  {
   "cell_type": "markdown",
   "metadata": {},
   "source": [
    "#### Discussion 2\n",
    "Experimental machine epsilon exactly matches epsilon based on IEEE 754. The while loop iterativly halves tested values of epsilon until the smallest possible value is found."
   ]
  },
  {
   "cell_type": "markdown",
   "metadata": {},
   "source": [
    "# 3) Addition & Subtraction\n",
    "Write a program to calculate $f(x)= \\sqrt{x^2+1}-1$ and $g(x)=\\frac{x^2}{\\sqrt{x^2+1}+1}$ for $x=2^{-1}, 2^{-2}, ....\\, 2^{-n}$. Theoretically, $f(x)=g(x)$ but numerical results will not be equivilent for large n.  Is $f(x)$ or $g(x)$ more reliable for this calculation?"
   ]
  },
  {
   "cell_type": "code",
   "execution_count": 4,
   "metadata": {},
   "outputs": [
    {
     "name": "stdout",
     "output_type": "stream",
     "text": [
      "i: 1 x: 0.5 f(x): 0.1180339887498949 g(x): 0.11803398874989485\n",
      "i: 2 x: 0.25 f(x): 0.030776406404415146 g(x): 0.030776406404415133\n",
      "i: 3 x: 0.125 f(x): 0.0077822185373186414 g(x): 0.0077822185373187065\n",
      "i: 4 x: 0.0625 f(x): 0.001951221367587408 g(x): 0.0019512213675873353\n",
      "i: 5 x: 0.03125 f(x): 0.000488162098882583 g(x): 0.0004881620988826073\n",
      "i: 6 x: 0.015625 f(x): 0.00012206286282867573 g(x): 0.00012206286282875901\n",
      "i: 7 x: 0.0078125 f(x): 3.0517112477923547e-05 g(x): 3.0517112477923005e-05\n",
      "i: 8 x: 0.00390625 f(x): 7.629365427641588e-06 g(x): 7.629365427641587e-06\n",
      "i: 9 x: 0.001953125 f(x): 1.9073468138230965e-06 g(x): 1.907346813826566e-06\n",
      "i: 10 x: 0.0009765625 f(x): 4.768370445162873e-07 g(x): 4.768370445163415e-07\n",
      "i: 11 x: 0.00048828125 f(x): 1.1920928244535389e-07 g(x): 1.1920928244535474e-07\n",
      "i: 12 x: 0.000244140625 f(x): 2.9802321943606103e-08 g(x): 2.9802321943606116e-08\n",
      "i: 13 x: 0.0001220703125 f(x): 7.450580596923828e-09 g(x): 7.4505805691682525e-09\n",
      "i: 14 x: 6.103515625e-05 f(x): 1.862645149230957e-09 g(x): 1.8626451474962336e-09\n",
      "i: 15 x: 3.0517578125e-05 f(x): 4.656612873077393e-10 g(x): 4.6566128719931904e-10\n",
      "i: 16 x: 1.52587890625e-05 f(x): 1.1641532182693481e-10 g(x): 1.1641532182015855e-10\n",
      "i: 17 x: 7.62939453125e-06 f(x): 2.9103830456733704e-11 g(x): 2.9103830456310187e-11\n",
      "i: 18 x: 3.814697265625e-06 f(x): 7.275957614183426e-12 g(x): 7.275957614156956e-12\n",
      "i: 19 x: 1.9073486328125e-06 f(x): 1.8189894035458565e-12 g(x): 1.8189894035442021e-12\n",
      "i: 20 x: 9.5367431640625e-07 f(x): 4.547473508864641e-13 g(x): 4.547473508863607e-13\n",
      "i: 21 x: 4.76837158203125e-07 f(x): 1.1368683772161603e-13 g(x): 1.1368683772160957e-13\n",
      "i: 22 x: 2.384185791015625e-07 f(x): 2.842170943040401e-14 g(x): 2.8421709430403604e-14\n",
      "i: 23 x: 1.1920928955078125e-07 f(x): 7.105427357601002e-15 g(x): 7.105427357600977e-15\n",
      "i: 24 x: 5.960464477539063e-08 f(x): 1.7763568394002505e-15 g(x): 1.7763568394002489e-15\n",
      "i: 25 x: 2.9802322387695312e-08 f(x): 4.440892098500626e-16 g(x): 4.440892098500625e-16\n",
      "i: 26 x: 1.4901161193847656e-08 f(x): 0.0 g(x): 1.1102230246251565e-16\n",
      "i: 27 x: 7.450580596923828e-09 f(x): 0.0 g(x): 2.7755575615628914e-17\n",
      "i: 28 x: 3.725290298461914e-09 f(x): 0.0 g(x): 6.938893903907228e-18\n",
      "i: 29 x: 1.862645149230957e-09 f(x): 0.0 g(x): 1.734723475976807e-18\n"
     ]
    }
   ],
   "source": [
    "maxIteration = 30\n",
    "\n",
    "for i in range(1, maxIteration):\n",
    "    x = 2**(-i)\n",
    "    funcF = sqrt(x**2 + 1) - 1\n",
    "    funcG = x**2/(sqrt(x**2 + 1) + 1)\n",
    "    print(\"i:\", i, \"x:\", x, \"f(x):\", funcF, \"g(x):\", funcG)"
   ]
  },
  {
   "cell_type": "markdown",
   "metadata": {},
   "source": [
    "#### Discussion 3\n",
    "For large values of $i$, $\\sqrt{x^2+1} \\approx 1$, so $f(x)\\approx 0$. $g(x)$ does not employ subtraction, so it has a smaller error at large $i$.  However, division is a computationally expensive process.  While $g(x)$ produces a more reliable result, computational accuracy and performance must be balanced on a case-by-case basis. "
   ]
  },
  {
   "cell_type": "markdown",
   "metadata": {},
   "source": [
    "# 4) Madelung Constant\n",
    "Exercise 2.9, page 74\n",
    "Write a program to calculate the Madelung constant, $M$, for a three dimensional face-centered cubic crystal like NaCl. You should find $M \\approx 1.747565$. How large must $L$ be to approximate $M$ to 2, 3, and 4 decimal places?\n",
    "\n",
    "#### Hints: \n",
    "<ol> <li> The Madelung constant is a purely geometric factor (i.e., do not include $\\frac{e}{4\\pi\\epsilon_0 a}$ in the program).</li> \n",
    "<li> In the calculation you sum over a set of plus and minus charges in a large cubic box of side L. For the sum to converge correctly to M , the total charge within this box must be zero.</li>\n",
    "</ol>"
   ]
  },
  {
   "cell_type": "code",
   "execution_count": 38,
   "metadata": {},
   "outputs": [
    {
     "name": "stdout",
     "output_type": "stream",
     "text": [
      "1.4560299256299833\n",
      "1.7517691333369405\n",
      "1.7477211096310816\n",
      "1.747574381725534\n",
      "1.74756459465029\n"
     ]
    }
   ],
   "source": [
    "def madelung(numAtoms):\n",
    "    voltage = 0\n",
    "    for i in range(-numAtoms, numAtoms):\n",
    "        for j in range(-numAtoms, numAtoms):\n",
    "            for k in range(-numAtoms, numAtoms):\n",
    "                if i != 0 or j != 0 or k != 0:  # Exclude the origin\n",
    "                    dist = sqrt(i**2 + j**2 + k**2)\n",
    "                    if (i + j + k) % 2 == 0:\n",
    "                        # Sodium atoms are positive\n",
    "                        voltContribution = 1 / dist\n",
    "                    else:\n",
    "                        # Chlorine atoms are negative\n",
    "                        voltContribution = -1 / dist\n",
    "\n",
    "                    voltage += voltContribution\n",
    "    madelungConst = abs(voltage)\n",
    "    return madelungConst\n",
    "\n",
    "print(madelung(1))\n",
    "print(madelung(2))\n",
    "print(madelung(4))\n",
    "print(madelung(8))\n",
    "print(madelung(300))"
   ]
  },
  {
   "cell_type": "markdown",
   "metadata": {},
   "source": [
    "#### Discussion 4\n",
    "A single atom cannot be used to approximate the Madelung constant to any relevant precision, but only 2 atoms are required to approximate the Madelung constant to 3 decimal places (1.75). 4 decimal places requires 8 atoms to be considered (1.7476).  The true Madelung constant assumes the limit where $L\\rightarrow\\infty$.  To simulate this, a large $L$ was chosen. With $L=300$, the program takes 54.2 seconds to run on my hardware."
   ]
  }
 ],
 "metadata": {
  "kernelspec": {
   "display_name": "Python 3",
   "language": "python",
   "name": "python3"
  },
  "language_info": {
   "codemirror_mode": {
    "name": "ipython",
    "version": 3
   },
   "file_extension": ".py",
   "mimetype": "text/x-python",
   "name": "python",
   "nbconvert_exporter": "python",
   "pygments_lexer": "ipython3",
   "version": "3.11.3"
  },
  "orig_nbformat": 4
 },
 "nbformat": 4,
 "nbformat_minor": 2
}
