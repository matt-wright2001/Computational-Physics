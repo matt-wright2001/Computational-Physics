{
 "cells": [
  {
   "cell_type": "code",
   "execution_count": null,
   "metadata": {},
   "outputs": [],
   "source": [
    "## Preamble\n",
    "from hw5 import RKF\n",
    "import matplotlib.pyplot as plt\n",
    "from numpy import array, empty, linspace, savetxt\n",
    "\n",
    "## Function Definitions\n",
    "def rossler(y, t, a, b):\n",
    "    dydt = empty(3)\n",
    "    dydt[0] = -y[1] - y[2]\n",
    "    dydt[1] = y[0] + b*y[1]\n",
    "    dydt[2] = b + y[2]*(y[0] - a)\n",
    "    return dydt"
   ]
  },
  {
   "cell_type": "markdown",
   "metadata": {},
   "source": [
    "## Solve the system for $(a,b)\\in\\lbrace(2.6, 0.2),(4.3, 0.2)\\rbrace.$ Plot motion on $y_2$-$y_3$ plane.  Describe the motion.\n",
    "\n",
    "#### Motion Description:\n",
    "The particle's motion is chaotic as it does not follow a periodic path in the given Poincare section, but it follows the path of the R\\\"{o}ssler Attractor, a boomarang-esq shape with a sharp $y_3$ increase near $y_2 = 2$, an exponential decrease towards $y_2=0$, and constant \"reset\" path along the $y_3 = 0$ value."
   ]
  },
  {
   "cell_type": "code",
   "execution_count": null,
   "metadata": {},
   "outputs": [],
   "source": [
    "def motionProjection(a, b):\n",
    "    # Initialize variables\n",
    "    y = array([1.0, 1.0, 1.0])\n",
    "    t = 0\n",
    "    t_final = 25\n",
    "    h = 0.01\n",
    "    tol = 1e-6\n",
    "    y2_values = []\n",
    "    y3_values = []\n",
    "\n",
    "    while t < t_final:\n",
    "        y, t, h, accept = RKF((lambda y, t: rossler(y, t, a, b)), t, h, y, tol)  # lambda function passes rossler to RKF with positional arguements \n",
    "        y2_values.append(y[1])\n",
    "        y3_values.append(y[2])\n",
    "\n",
    "    # Plot the results\n",
    "    plt.figure()\n",
    "    plt.plot(y2_values, y3_values)\n",
    "    plt.xlabel('$y_2$')\n",
    "    plt.ylabel('$y_3$')\n",
    "    plt.title('Projection of Rossler System Motion on $y_2$-$y_3$ Plane')\n",
    "    plt.show()\n",
    "\n",
    "motionProjection(2.6, 0.2)\n",
    "motionProjection(4.3, 0.2)"
   ]
  },
  {
   "cell_type": "code",
   "execution_count": null,
   "metadata": {},
   "outputs": [],
   "source": [
    "def bifurcation(a0, a1, b, t0, t1, h, tol, deltaA):\n",
    "    bifurcation = []\n",
    "\n",
    "    # To create the total Rossler Bifurcation Plot\n",
    "    # aVal = aVal = linspace(a0, a1)\n",
    "\n",
    "    # To determine the period doubling values of a\n",
    "    aVal = linspace(a0, a1, int((a1 - a0) / deltaA))\n",
    "    for a in aVal:\n",
    "        y = array([1.0, 1.0, 1.0])\n",
    "        t = 0\n",
    "\n",
    "        # Transient phase\n",
    "        while t < t0:\n",
    "            y, t, h, accept = RKF(lambda y, t: rossler(y, t, a, b), t, h, y, tol)\n",
    "        \n",
    "        # Collecting bifurcation data\n",
    "        prev_y = y\n",
    "        while t < t1:\n",
    "            y, t, h, accept = RKF(lambda y, t: rossler(y, t, a, b), t, h, y, tol)\n",
    "            \n",
    "            # Check for zero crossing from positive to negative\n",
    "            if prev_y[0] > 0 and y[0] < 0:\n",
    "                bifurcation.append((a, y[1]))  # Store (a, y2) pair\n",
    "            prev_y = y\n",
    "\n",
    "    return bifurcation\n",
    "\n",
    "a0, a1 = 4.4 , 4.7 \n",
    "deltaA = 0.001\n",
    "b = 0.2\n",
    "t0, t1 = 100, 150\n",
    "h = 0.01\n",
    "tol = 1e-8\n",
    "\n",
    "bif = bifurcation(a0, a1, b, t0, t1, h, tol, deltaA)\n",
    "\n",
    "# Split the bifurcation data for saving\n",
    "aData, y2data = zip(*bif)\n",
    "\n",
    "savetxt('bifurcation.dat', list(zip(aData, y2data)))"
   ]
  },
  {
   "cell_type": "markdown",
   "metadata": {},
   "source": [
    "![Bifurcation](./bifurcation.png)\n",
    "##### Note: This plot does not consider $\\Delta a$ in the definition of aVal.\n",
    "\n",
    "![1st Period Double](./periodDouble1.png)\n",
    "##### Through graphical inspection and Feigenbaum constant experimentation, the split appears to occur at $a\\approx 2.52$.\n",
    "\n",
    "![2nd Period Double](./periodDouble2.png)\n",
    "##### Through graphical inspection and Feigenbaum constant experimentation, the split appears to occur at $a\\approx 3.78$.\n",
    "\n",
    "![3rd Period Double](./periodDouble3.png)\n",
    "##### Through graphical inspection and Feigenbaum constant experimentation, the split appears to occur at $a\\approx 4.055$.\n",
    "\n",
    "![4th Period Double](./periodDouble4.png)\n",
    "##### $a$ is difficult to precisly estimate in this range, but it may occur around $a\\approx 4.5$ as the particle's motion becomes more chaotic at this value."
   ]
  },
  {
   "cell_type": "code",
   "execution_count": null,
   "metadata": {},
   "outputs": [],
   "source": [
    "a_n_minus1 = 2.52  # 1st bifurcation\n",
    "a_n =        3.78  # 2nd bifurcation\n",
    "a_n_plus1 =  4.055 # 3rd bifurcation\n",
    "\n",
    "delta = (a_n - a_n_minus1) / (a_n_plus1 - a_n)\n",
    "print(f'Estimated Feigenbaum constant, delta: {delta}')\n",
    "\n",
    "trueDelta = 4.669201609\n",
    "error = abs((delta - trueDelta)/ trueDelta)\n",
    "print(f'Estimation Error: {error}')"
   ]
  }
 ],
 "metadata": {
  "kernelspec": {
   "display_name": "Python 3",
   "language": "python",
   "name": "python3"
  },
  "language_info": {
   "codemirror_mode": {
    "name": "ipython",
    "version": 3
   },
   "file_extension": ".py",
   "mimetype": "text/x-python",
   "name": "python",
   "nbconvert_exporter": "python",
   "pygments_lexer": "ipython3",
   "version": "3.11.5"
  },
  "orig_nbformat": 4
 },
 "nbformat": 4,
 "nbformat_minor": 2
}
