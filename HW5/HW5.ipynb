{
 "cells": [
  {
   "cell_type": "code",
   "execution_count": null,
   "metadata": {},
   "outputs": [],
   "source": [
    "## Preamble\n",
    "from hw5 import RKF\n",
    "import matplotlib.pyplot as plt\n",
    "from numpy import array, empty\n",
    "\n",
    "def rossler(y, t, a, b):\n",
    "    dydt = empty(3)\n",
    "    dydt[0] = -y[1] - y[2]\n",
    "    dydt[1] = y[0] + b*y[1]\n",
    "    dydt[2] = b + y[2]*(y[0] - a)\n",
    "    return dydt"
   ]
  },
  {
   "cell_type": "code",
   "execution_count": null,
   "metadata": {},
   "outputs": [],
   "source": [
    "a = 2.6\n",
    "b = 0.2\n",
    "\n",
    "# Initialize variables\n",
    "y_initial = array([1.0, 1.0, 1.0])\n",
    "t_initial = 0\n",
    "t_final = 25\n",
    "h_initial = 0.01\n",
    "tol = 1e-6\n",
    "\n",
    "# Set up the iteration loop\n",
    "y = y_initial\n",
    "t = t_initial\n",
    "h = h_initial\n",
    "y2_values = []\n",
    "y3_values = []\n",
    "\n",
    "\n",
    "while t < t_final:\n",
    "    y, t, h, accept = RKF(lambda y, t: rossler(y, t, a, b), t, h, y, tol)  # Use lambda to pass Rossler function with positional arguements \n",
    "    y2_values.append(y[1])\n",
    "    y3_values.append(y[2])\n",
    "\n",
    "# Plot the results\n",
    "plt.figure()\n",
    "plt.plot(y2_values, y3_values)\n",
    "plt.xlabel('$y_2$')\n",
    "plt.ylabel('$y_3$')\n",
    "plt.title('Projection of Rossler System Motion on $y_2$-$y_3$ Plane')\n",
    "plt.show()"
   ]
  }
 ],
 "metadata": {
  "kernelspec": {
   "display_name": "Python 3",
   "language": "python",
   "name": "python3"
  },
  "language_info": {
   "codemirror_mode": {
    "name": "ipython",
    "version": 3
   },
   "file_extension": ".py",
   "mimetype": "text/x-python",
   "name": "python",
   "nbconvert_exporter": "python",
   "pygments_lexer": "ipython3",
   "version": "3.11.3"
  },
  "orig_nbformat": 4
 },
 "nbformat": 4,
 "nbformat_minor": 2
}
